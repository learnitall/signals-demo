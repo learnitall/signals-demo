{
 "cells": [
  {
   "cell_type": "markdown",
   "id": "f73ef6dd-5247-4e24-b950-6cb1c9189ef3",
   "metadata": {
    "tags": []
   },
   "source": [
    "### Environment\n",
    "\n",
    "minikube running a kvm-backed kubernetes cluster, hosted on Fedora 34"
   ]
  },
  {
   "cell_type": "code",
   "execution_count": null,
   "id": "e16e0416-81ac-4d55-b9a5-6456f856dc5c",
   "metadata": {},
   "outputs": [],
   "source": [
    "print(\"--- Cluster info ---\")\n",
    "!minikube version\n",
    "print()\n",
    "!kubectl get nodes\n",
    "print()\n",
    "!virsh --connect qemu:///system list\n",
    "print(\"--- Host info ---\")\n",
    "!uname -a\n",
    "!cat /etc/os-release | grep -i pretty_name"
   ]
  },
  {
   "cell_type": "markdown",
   "id": "a75d49b1-51a2-4dbe-8164-358cb6d792c1",
   "metadata": {},
   "source": [
    "### Deploy"
   ]
  },
  {
   "cell_type": "code",
   "execution_count": null,
   "id": "3889d62d-1f16-4054-a8ce-b0a3df691e6b",
   "metadata": {
    "tags": []
   },
   "outputs": [],
   "source": [
    "# Need to sync our demo code to minikube host first\n",
    "!rsync -avzz -e \"ssh -i ~/.minikube/machines/minikube/id_rsa\" . docker@$(minikube ip):/home/docker/demo\n",
    "!kubectl apply -f manifest.yaml\n",
    "\n",
    "# Wait for it to start\n",
    "!kubectl get deployment/signals-demo\n",
    "!kubectl rollout status deployment/signals-demo"
   ]
  },
  {
   "cell_type": "code",
   "execution_count": null,
   "id": "82b09416-8e05-42b4-a7f7-2ab7584696c3",
   "metadata": {},
   "outputs": [],
   "source": [
    "# Pods that we have:\n",
    "!kubectl get pods --selector=app=signals-demo -o jsonpath='{.items[0].spec.containers[*].name}' | xargs echo\n",
    "\n",
    "# Terminal 1\n",
    "# kubectl attach -it deployment/signals-demo -c breakpoint\n",
    "\n",
    "# Terminal 2\n",
    "# kubectl logs -f deployment/signals-demo benchmark\n",
    "\n",
    "# Terminal 3\n",
    "# script/meta.sh\n",
    "\n",
    "# Terminal 4\n",
    "# kubectl logs -f deployment/signals-demo pbench"
   ]
  },
  {
   "cell_type": "code",
   "execution_count": null,
   "id": "b39c47b9-1f4f-4325-9f85-9745ca8dae31",
   "metadata": {},
   "outputs": [],
   "source": [
    "!curl -X GET \"localhost:9200/results/_search?pretty\""
   ]
  },
  {
   "cell_type": "code",
   "execution_count": null,
   "id": "ccdfb7bc-4a58-4085-a009-06d5b0c4628e",
   "metadata": {},
   "outputs": [],
   "source": []
  }
 ],
 "metadata": {
  "kernelspec": {
   "display_name": "Python 3 (ipykernel)",
   "language": "python",
   "name": "python3"
  },
  "language_info": {
   "codemirror_mode": {
    "name": "ipython",
    "version": 3
   },
   "file_extension": ".py",
   "mimetype": "text/x-python",
   "name": "python",
   "nbconvert_exporter": "python",
   "pygments_lexer": "ipython3",
   "version": "3.9.6"
  }
 },
 "nbformat": 4,
 "nbformat_minor": 5
}
